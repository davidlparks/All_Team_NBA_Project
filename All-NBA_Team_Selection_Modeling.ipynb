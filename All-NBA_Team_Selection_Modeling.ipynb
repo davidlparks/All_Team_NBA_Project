{
 "cells": [
  {
   "cell_type": "markdown",
   "metadata": {},
   "source": [
    "### All-NBA Team Selection Modeling\n",
    "Prepared by David L. Parks  \n",
    "December 14, 2020"
   ]
  },
  {
   "cell_type": "markdown",
   "metadata": {},
   "source": [
    "#### Introduction"
   ]
  },
  {
   "cell_type": "markdown",
   "metadata": {},
   "source": [
    "This study attempts to find a classification model that predicts the probability an NBA player is selected for the All-NBA Team. Each year the NBA selects 15 of the leagues best players to be on the All-NBA Team. The team is divided into first, second, and third strings with five players on each string. Given that there are approximately 400 active players in the NBA per season, the overall chance of being selected for the team is ~3.75%, and the overall chance of not being selected for the team is ~96.25%. Knowing these percentages, one could implement a naïve model – one that always predicts “not being selected” – and be accurate about 96% of the time. This means that the final classification model will need to be correct more than 96% of the time to be useful.\n",
    "\n",
    "Sports betting is a multi-billion-dollar industry that not only generates hundreds of millions in revenue for sportsbooks, but also tens of millions in state taxes each year. Sportsbooks are constantly looking for new wagering opportunities. If successful, this model could potentially create new revenue streams worth millions of dollars."
   ]
  },
  {
   "cell_type": "markdown",
   "metadata": {},
   "source": [
    "#### Data Summary"
   ]
  },
  {
   "cell_type": "markdown",
   "metadata": {},
   "source": [
    "I retrieved ten years of NBA regular season player stats[[1]](https://stats.nba.com/players/traditional) and All-NBA team rosters[[2]](https://www.nba.com/history/awards/all-nba-team) from the beginning of the 2009 season to the end of the 2018 season. This time period was selected to avoid incomplete data from the 2019 - 2020 season due to COVID-19. The data were cleaned and preprocessed in Excel. A glossary for the factors considered in this model is included at the end of the notebook."
   ]
  },
  {
   "cell_type": "code",
   "execution_count": 1,
   "metadata": {},
   "outputs": [],
   "source": [
    "# import modules\n",
    "import matplotlib.pyplot as plt\n",
    "import numpy as np\n",
    "import pandas as pd\n",
    "import seaborn as sns; sns.set()\n",
    "from sklearn.ensemble import RandomForestClassifier\n",
    "from sklearn.ensemble import VotingClassifier\n",
    "from sklearn.linear_model import LogisticRegression\n",
    "from sklearn.metrics import accuracy_score\n",
    "from sklearn.metrics import plot_confusion_matrix\n",
    "from sklearn.metrics import roc_auc_score, roc_curve\n",
    "from sklearn.model_selection import GridSearchCV\n",
    "from sklearn.model_selection import train_test_split\n",
    "from sklearn.preprocessing import StandardScaler\n",
    "from sklearn.svm import SVC"
   ]
  },
  {
   "cell_type": "code",
   "execution_count": 2,
   "metadata": {},
   "outputs": [],
   "source": [
    "# import the data\n",
    "nba_roster = pd.read_csv(\"NBA_Roster_2009_2018.csv\")\n",
    "all_team = pd.read_csv(\"All-NBA_Teams_2009_2018.csv\")"
   ]
  },
  {
   "cell_type": "code",
   "execution_count": 3,
   "metadata": {},
   "outputs": [],
   "source": [
    "# remove extraneous spaces in the PLAYER column so the tables will merge correctly\n",
    "nba_roster.PLAYER = nba_roster.PLAYER.str.strip()\n",
    "all_team.PLAYER = all_team.PLAYER.str.strip()"
   ]
  },
  {
   "cell_type": "code",
   "execution_count": 4,
   "metadata": {},
   "outputs": [],
   "source": [
    "# merge the data\n",
    "full_data_set = pd.merge(nba_roster, all_team,\n",
    "                         left_on=[\"PLAYER\", \"YEAR\"],\n",
    "                         right_on=[\"PLAYER\", \"YEAR\"],\n",
    "                         how=\"left\")"
   ]
  },
  {
   "cell_type": "code",
   "execution_count": 5,
   "metadata": {},
   "outputs": [
    {
     "name": "stdout",
     "output_type": "stream",
     "text": [
      "<class 'pandas.core.frame.DataFrame'>\n",
      "Int64Index: 4847 entries, 0 to 4846\n",
      "Data columns (total 30 columns):\n",
      " #   Column      Non-Null Count  Dtype  \n",
      "---  ------      --------------  -----  \n",
      " 0   PLAYER      4847 non-null   object \n",
      " 1   YEAR        4847 non-null   int64  \n",
      " 2   TEAM        4847 non-null   object \n",
      " 3   AGE         4847 non-null   int64  \n",
      " 4   GP          4847 non-null   int64  \n",
      " 5   W           4847 non-null   int64  \n",
      " 6   L           4847 non-null   int64  \n",
      " 7   MIN         4847 non-null   float64\n",
      " 8   PTS         4847 non-null   float64\n",
      " 9   FGM         4847 non-null   float64\n",
      " 10  FGA         4847 non-null   float64\n",
      " 11  FG_PERCENT  4847 non-null   float64\n",
      " 12  3PM         4847 non-null   float64\n",
      " 13  3PA         4847 non-null   float64\n",
      " 14  3P_PERCENT  4847 non-null   float64\n",
      " 15  FTM         4847 non-null   float64\n",
      " 16  FTA         4847 non-null   float64\n",
      " 17  FT_PERCENT  4847 non-null   float64\n",
      " 18  OREB        4847 non-null   float64\n",
      " 19  DREB        4847 non-null   float64\n",
      " 20  REB         4847 non-null   float64\n",
      " 21  AST         4847 non-null   float64\n",
      " 22  TOV         4847 non-null   float64\n",
      " 23  STL         4847 non-null   float64\n",
      " 24  BLK         4847 non-null   float64\n",
      " 25  PF          4847 non-null   float64\n",
      " 26  FP          4847 non-null   float64\n",
      " 27  DD2         4847 non-null   int64  \n",
      " 28  TD3         4847 non-null   int64  \n",
      " 29  ALL_TEAM    150 non-null    float64\n",
      "dtypes: float64(21), int64(7), object(2)\n",
      "memory usage: 1.1+ MB\n"
     ]
    }
   ],
   "source": [
    "# take a first look at the data\n",
    "full_data_set.info()"
   ]
  },
  {
   "cell_type": "markdown",
   "metadata": {},
   "source": [
    "Initial Cleaning"
   ]
  },
  {
   "cell_type": "code",
   "execution_count": 6,
   "metadata": {},
   "outputs": [
    {
     "data": {
      "text/html": [
       "<div>\n",
       "<style scoped>\n",
       "    .dataframe tbody tr th:only-of-type {\n",
       "        vertical-align: middle;\n",
       "    }\n",
       "\n",
       "    .dataframe tbody tr th {\n",
       "        vertical-align: top;\n",
       "    }\n",
       "\n",
       "    .dataframe thead th {\n",
       "        text-align: right;\n",
       "    }\n",
       "</style>\n",
       "<table border=\"1\" class=\"dataframe\">\n",
       "  <thead>\n",
       "    <tr style=\"text-align: right;\">\n",
       "      <th></th>\n",
       "      <th>PLAYER</th>\n",
       "      <th>YEAR</th>\n",
       "      <th>TEAM</th>\n",
       "      <th>AGE</th>\n",
       "      <th>GP</th>\n",
       "      <th>W</th>\n",
       "      <th>L</th>\n",
       "      <th>MIN</th>\n",
       "      <th>PTS</th>\n",
       "      <th>FGM</th>\n",
       "      <th>...</th>\n",
       "      <th>REB</th>\n",
       "      <th>AST</th>\n",
       "      <th>TOV</th>\n",
       "      <th>STL</th>\n",
       "      <th>BLK</th>\n",
       "      <th>PF</th>\n",
       "      <th>FP</th>\n",
       "      <th>DD2</th>\n",
       "      <th>TD3</th>\n",
       "      <th>ALL_TEAM</th>\n",
       "    </tr>\n",
       "  </thead>\n",
       "  <tbody>\n",
       "    <tr>\n",
       "      <th>0</th>\n",
       "      <td>Kevin Durant</td>\n",
       "      <td>2009</td>\n",
       "      <td>OKC</td>\n",
       "      <td>21</td>\n",
       "      <td>82</td>\n",
       "      <td>50</td>\n",
       "      <td>32</td>\n",
       "      <td>39.5</td>\n",
       "      <td>30.1</td>\n",
       "      <td>9.7</td>\n",
       "      <td>...</td>\n",
       "      <td>7.6</td>\n",
       "      <td>2.8</td>\n",
       "      <td>3.3</td>\n",
       "      <td>1.4</td>\n",
       "      <td>1.0</td>\n",
       "      <td>2.1</td>\n",
       "      <td>47.4</td>\n",
       "      <td>25</td>\n",
       "      <td>0</td>\n",
       "      <td>1</td>\n",
       "    </tr>\n",
       "    <tr>\n",
       "      <th>1</th>\n",
       "      <td>LeBron James</td>\n",
       "      <td>2009</td>\n",
       "      <td>CLE</td>\n",
       "      <td>25</td>\n",
       "      <td>76</td>\n",
       "      <td>60</td>\n",
       "      <td>16</td>\n",
       "      <td>39.0</td>\n",
       "      <td>29.7</td>\n",
       "      <td>10.1</td>\n",
       "      <td>...</td>\n",
       "      <td>7.3</td>\n",
       "      <td>8.6</td>\n",
       "      <td>3.4</td>\n",
       "      <td>1.6</td>\n",
       "      <td>1.0</td>\n",
       "      <td>1.6</td>\n",
       "      <td>55.8</td>\n",
       "      <td>31</td>\n",
       "      <td>4</td>\n",
       "      <td>1</td>\n",
       "    </tr>\n",
       "    <tr>\n",
       "      <th>2</th>\n",
       "      <td>Carmelo Anthony</td>\n",
       "      <td>2009</td>\n",
       "      <td>DEN</td>\n",
       "      <td>26</td>\n",
       "      <td>69</td>\n",
       "      <td>45</td>\n",
       "      <td>24</td>\n",
       "      <td>38.2</td>\n",
       "      <td>28.2</td>\n",
       "      <td>10.0</td>\n",
       "      <td>...</td>\n",
       "      <td>6.6</td>\n",
       "      <td>3.2</td>\n",
       "      <td>3.0</td>\n",
       "      <td>1.3</td>\n",
       "      <td>0.4</td>\n",
       "      <td>3.3</td>\n",
       "      <td>43.0</td>\n",
       "      <td>10</td>\n",
       "      <td>0</td>\n",
       "      <td>1</td>\n",
       "    </tr>\n",
       "    <tr>\n",
       "      <th>3</th>\n",
       "      <td>Kobe Bryant</td>\n",
       "      <td>2009</td>\n",
       "      <td>LAL</td>\n",
       "      <td>31</td>\n",
       "      <td>73</td>\n",
       "      <td>51</td>\n",
       "      <td>22</td>\n",
       "      <td>38.8</td>\n",
       "      <td>27.0</td>\n",
       "      <td>9.8</td>\n",
       "      <td>...</td>\n",
       "      <td>5.4</td>\n",
       "      <td>5.0</td>\n",
       "      <td>3.2</td>\n",
       "      <td>1.5</td>\n",
       "      <td>0.3</td>\n",
       "      <td>2.6</td>\n",
       "      <td>43.2</td>\n",
       "      <td>7</td>\n",
       "      <td>0</td>\n",
       "      <td>1</td>\n",
       "    </tr>\n",
       "    <tr>\n",
       "      <th>4</th>\n",
       "      <td>Dwyane Wade</td>\n",
       "      <td>2009</td>\n",
       "      <td>MIA</td>\n",
       "      <td>28</td>\n",
       "      <td>77</td>\n",
       "      <td>45</td>\n",
       "      <td>32</td>\n",
       "      <td>36.3</td>\n",
       "      <td>26.6</td>\n",
       "      <td>9.3</td>\n",
       "      <td>...</td>\n",
       "      <td>4.8</td>\n",
       "      <td>6.5</td>\n",
       "      <td>3.3</td>\n",
       "      <td>1.8</td>\n",
       "      <td>1.1</td>\n",
       "      <td>2.4</td>\n",
       "      <td>47.6</td>\n",
       "      <td>17</td>\n",
       "      <td>0</td>\n",
       "      <td>1</td>\n",
       "    </tr>\n",
       "  </tbody>\n",
       "</table>\n",
       "<p>5 rows × 30 columns</p>\n",
       "</div>"
      ],
      "text/plain": [
       "            PLAYER  YEAR TEAM  AGE  GP   W   L   MIN   PTS   FGM  ...  REB  \\\n",
       "0     Kevin Durant  2009  OKC   21  82  50  32  39.5  30.1   9.7  ...  7.6   \n",
       "1     LeBron James  2009  CLE   25  76  60  16  39.0  29.7  10.1  ...  7.3   \n",
       "2  Carmelo Anthony  2009  DEN   26  69  45  24  38.2  28.2  10.0  ...  6.6   \n",
       "3      Kobe Bryant  2009  LAL   31  73  51  22  38.8  27.0   9.8  ...  5.4   \n",
       "4      Dwyane Wade  2009  MIA   28  77  45  32  36.3  26.6   9.3  ...  4.8   \n",
       "\n",
       "   AST  TOV  STL  BLK   PF    FP  DD2  TD3  ALL_TEAM  \n",
       "0  2.8  3.3  1.4  1.0  2.1  47.4   25    0         1  \n",
       "1  8.6  3.4  1.6  1.0  1.6  55.8   31    4         1  \n",
       "2  3.2  3.0  1.3  0.4  3.3  43.0   10    0         1  \n",
       "3  5.0  3.2  1.5  0.3  2.6  43.2    7    0         1  \n",
       "4  6.5  3.3  1.8  1.1  2.4  47.6   17    0         1  \n",
       "\n",
       "[5 rows x 30 columns]"
      ]
     },
     "execution_count": 6,
     "metadata": {},
     "output_type": "execute_result"
    }
   ],
   "source": [
    "# replace NaN values with 0 in the ALL_TEAM column to indicate\n",
    "# that the player was NOT selected to the All-NBA Team\n",
    "full_data_set.ALL_TEAM.fillna(0, inplace=True)\n",
    "\n",
    "# set dtype for the ALL_TEAM column to int\n",
    "full_data_set.ALL_TEAM = full_data_set.ALL_TEAM.astype(np.int64)\n",
    "\n",
    "# look at the head of the full dataframe\n",
    "full_data_set.head()"
   ]
  },
  {
   "cell_type": "markdown",
   "metadata": {},
   "source": [
    "Check for Correlated Features"
   ]
  },
  {
   "cell_type": "markdown",
   "metadata": {},
   "source": [
    "The appearance of closely spaced, lightly colored squares along the diagonal indicates that there are clusters of highly correlated variables, many of which we expect to see. For example, FG_PERCENT is calculated using (FGM / FGA) * 100. All of the remaining percentage features are calculated in a similar fashion. For this reason, FG_PERCENT, 3P_PERCENT, and FT_PERCENT are removed from the dataset."
   ]
  },
  {
   "cell_type": "code",
   "execution_count": 7,
   "metadata": {},
   "outputs": [],
   "source": [
    "# compute the correlation matrix\n",
    "corr_matrix = full_data_set.iloc[:, 3:].corr()"
   ]
  },
  {
   "cell_type": "code",
   "execution_count": 8,
   "metadata": {},
   "outputs": [
    {
     "data": {
      "image/png": "[encoded data removed]",
      "text/plain": [
       "<Figure size 1152x648 with 2 Axes>"
      ]
     },
     "metadata": {},
     "output_type": "display_data"
    }
   ],
   "source": [
    "# plot the correlation matrix as a heatmap\n",
    "plt.figure(figsize=(16, 9))\n",
    "sns.heatmap(corr_matrix, vmin=-1, vmax=1, square=True);"
   ]
  },
  {
   "cell_type": "markdown",
   "metadata": {},
   "source": [
    "Create Training and Testing Sets"
   ]
  },
  {
   "cell_type": "markdown",
   "metadata": {},
   "source": [
    "As noted above, the imbalanced dataset has a very small percentage of players selected to the All-NBA Team. Given this situation, it is possible to create training and/or testing sets comprised of a single target variable (e.g. - only 0s or only 1s) since the training and testing sets are choosen at random. Stratified sampling was used to avoid this predicament."
   ]
  },
  {
   "cell_type": "code",
   "execution_count": 9,
   "metadata": {},
   "outputs": [],
   "source": [
    "# remove PLAYER, YEAR, TEAM, FG_PERCENT, 3P_PERCENT, and FT_PERCENT from the dataset\n",
    "data = full_data_set.drop(columns=[\"PLAYER\", \"YEAR\", \"TEAM\", \"FG_PERCENT\", \"3P_PERCENT\", \"FT_PERCENT\"])"
   ]
  },
  {
   "cell_type": "code",
   "execution_count": 10,
   "metadata": {},
   "outputs": [],
   "source": [
    "# create stratified training and testing sets\n",
    "X_train, X_test, y_train, y_test = train_test_split(data.iloc[:, :-1], data.iloc[:, -1], train_size=0.8, stratify=data.ALL_TEAM, random_state=38)"
   ]
  },
  {
   "cell_type": "code",
   "execution_count": 11,
   "metadata": {},
   "outputs": [],
   "source": [
    "# standardize the training and testing data\n",
    "scaler = StandardScaler()\n",
    "X_train_std = scaler.fit_transform(X_train)\n",
    "X_test_std = scaler.transform(X_test)"
   ]
  },
  {
   "cell_type": "code",
   "execution_count": 12,
   "metadata": {
    "scrolled": true
   },
   "outputs": [
    {
     "data": {
      "text/plain": [
       "((3877, 23), (970, 23), (3877,), (970,))"
      ]
     },
     "execution_count": 12,
     "metadata": {},
     "output_type": "execute_result"
    }
   ],
   "source": [
    "X_train_std.shape, X_test_std.shape, y_train.shape, y_test.shape"
   ]
  },
  {
   "cell_type": "markdown",
   "metadata": {},
   "source": [
    "#### Modeling"
   ]
  },
  {
   "cell_type": "markdown",
   "metadata": {},
   "source": [
    "We begin modeling with simple logistic regression and then try more complex classifiers. Each model is trained using a 5-fold cross-validated grid search to find the optimal hyperparameters and then tested with a test set that the model has not seen before. An accuracy score, AUC score, confusion matrix, and ROC curve are calculated for each model."
   ]
  },
  {
   "cell_type": "code",
   "execution_count": 13,
   "metadata": {},
   "outputs": [],
   "source": [
    "# define a function to plot the ROC curve\n",
    "def plot_roc_curve(fpr, tpr, label=None):\n",
    "    plt.plot(fpr, tpr, linewidth=2, label=label)\n",
    "    plt.plot([0, 1], [0, 1], \"k--\")\n",
    "    plt.xlabel(\"False Positive Rate\")\n",
    "    plt.ylabel(\"True Positive Rate\")\n",
    "    plt.grid(b=True);"
   ]
  },
  {
   "cell_type": "markdown",
   "metadata": {},
   "source": [
    "Train a Logistic Regressor using a cross-validated grid search."
   ]
  },
  {
   "cell_type": "code",
   "execution_count": 14,
   "metadata": {},
   "outputs": [
    {
     "data": {
      "text/plain": [
       "{'penalty': ['l1', 'l2', 'elasticnet', 'none']}"
      ]
     },
     "execution_count": 14,
     "metadata": {},
     "output_type": "execute_result"
    }
   ],
   "source": [
    "# set up a parameter grid for grid search\n",
    "search_grid = {\"penalty\": [\"l1\", \"l2\", \"elasticnet\", \"none\"]}\n",
    "search_grid"
   ]
  },
  {
   "cell_type": "code",
   "execution_count": 15,
   "metadata": {},
   "outputs": [
    {
     "data": {
      "text/plain": [
       "{'penalty': 'l2'}"
      ]
     },
     "execution_count": 15,
     "metadata": {},
     "output_type": "execute_result"
    }
   ],
   "source": [
    "# instantiate a Logistic Regressor\n",
    "log_reg = LogisticRegression()\n",
    "\n",
    "# instantiate a GridSearchCV\n",
    "grid_search = GridSearchCV(log_reg, search_grid,\n",
    "                           cv=5, n_jobs=6,\n",
    "                           scoring=\"roc_auc\")\n",
    "\n",
    "# conduct a grid search\n",
    "grid_search.fit(X_train_std, y_train)\n",
    "\n",
    "# view the results of the grid search\n",
    "grid_search.best_params_"
   ]
  },
  {
   "cell_type": "code",
   "execution_count": 16,
   "metadata": {},
   "outputs": [
    {
     "name": "stdout",
     "output_type": "stream",
     "text": [
      "Accuracy: 0.9948\n",
      "AUC score: 0.9984\n"
     ]
    }
   ],
   "source": [
    "# get the predicted labels\n",
    "y_pred = grid_search.best_estimator_.predict(X_test_std)\n",
    "\n",
    "# get the predicted probabilities\n",
    "y_prob = grid_search.best_estimator_.predict_proba(X_test_std)\n",
    "\n",
    "# isolate the positive probabilities\n",
    "y_prob = y_prob[:, 1]\n",
    "\n",
    "# calculate the accuracy score\n",
    "print(\"Accuracy: {}\".format(accuracy_score(y_test, y_pred).round(4)))\n",
    "\n",
    "# calculate the AUC score\n",
    "print(\"AUC score: {}\".format(roc_auc_score(y_test, y_prob).round(4)))"
   ]
  },
  {
   "cell_type": "code",
   "execution_count": 17,
   "metadata": {},
   "outputs": [
    {
     "data": {
      "image/png": "[encoded data removed]",
      "text/plain": [
       "<Figure size 432x288 with 2 Axes>"
      ]
     },
     "metadata": {},
     "output_type": "display_data"
    }
   ],
   "source": [
    "# look at the confusion matrix\n",
    "plot_confusion_matrix(grid_search.best_estimator_, X_test_std, y_test);"
   ]
  },
  {
   "cell_type": "code",
   "execution_count": 18,
   "metadata": {
    "scrolled": true
   },
   "outputs": [
    {
     "data": {
      "image/png": "[encoded data removed]",
      "text/plain": [
       "<Figure size 432x288 with 1 Axes>"
      ]
     },
     "metadata": {},
     "output_type": "display_data"
    }
   ],
   "source": [
    "# compute the False Positive Rate (FPR) and the True Positive Rate (TPR) for various thresholds\n",
    "fpr, tpr, thresholds = roc_curve(y_test, y_prob)\n",
    "\n",
    "# plot the ROC curve\n",
    "plot_roc_curve(fpr, tpr)"
   ]
  },
  {
   "cell_type": "markdown",
   "metadata": {},
   "source": [
    "Train a Support Vector Classifier using a cross-validated grid search."
   ]
  },
  {
   "cell_type": "code",
   "execution_count": 19,
   "metadata": {},
   "outputs": [
    {
     "data": {
      "text/plain": [
       "{'kernel': ['linear', 'poly', 'rbf', 'sigmoid']}"
      ]
     },
     "execution_count": 19,
     "metadata": {},
     "output_type": "execute_result"
    }
   ],
   "source": [
    "# set up a parameter grid for grid search\n",
    "search_grid = {\"kernel\": [\"linear\", \"poly\", \"rbf\", \"sigmoid\"]}\n",
    "search_grid"
   ]
  },
  {
   "cell_type": "code",
   "execution_count": 20,
   "metadata": {},
   "outputs": [
    {
     "data": {
      "text/plain": [
       "{'kernel': 'linear'}"
      ]
     },
     "execution_count": 20,
     "metadata": {},
     "output_type": "execute_result"
    }
   ],
   "source": [
    "# instantiate a Support Vector Classifier\n",
    "svc_model = SVC(probability=True)\n",
    "\n",
    "# instantiate a GridSearchCV\n",
    "grid_search = GridSearchCV(svc_model, search_grid,\n",
    "                           cv=5, n_jobs=6,\n",
    "                           scoring=\"roc_auc\")\n",
    "\n",
    "# conduct a grid search\n",
    "grid_search.fit(X_train_std, y_train)\n",
    "\n",
    "# view the results of the grid search\n",
    "grid_search.best_params_"
   ]
  },
  {
   "cell_type": "code",
   "execution_count": 21,
   "metadata": {},
   "outputs": [
    {
     "name": "stdout",
     "output_type": "stream",
     "text": [
      "Accuracy: 0.9938\n",
      "AUC score: 0.9984\n"
     ]
    }
   ],
   "source": [
    "# get the predicted labels\n",
    "y_pred = grid_search.best_estimator_.predict(X_test_std)\n",
    "\n",
    "# get the predicted probabilities\n",
    "y_prob = grid_search.best_estimator_.predict_proba(X_test_std)\n",
    "\n",
    "# isolate the positive probabilities\n",
    "y_prob = y_prob[:, 1]\n",
    "\n",
    "# calculate the accuracy score\n",
    "print(\"Accuracy: {}\".format(accuracy_score(y_test, y_pred).round(4)))\n",
    "\n",
    "# calculate the AUC score\n",
    "print(\"AUC score: {}\".format(roc_auc_score(y_test, y_prob).round(4)))"
   ]
  },
  {
   "cell_type": "code",
   "execution_count": 22,
   "metadata": {},
   "outputs": [
    {
     "data": {
      "image/png": "[encoded data removed]",
      "text/plain": [
       "<Figure size 432x288 with 2 Axes>"
      ]
     },
     "metadata": {},
     "output_type": "display_data"
    }
   ],
   "source": [
    "# look at the confusion matrix\n",
    "plot_confusion_matrix(grid_search.best_estimator_, X_test_std, y_test);"
   ]
  },
  {
   "cell_type": "code",
   "execution_count": 23,
   "metadata": {},
   "outputs": [
    {
     "data": {
      "image/png": "[encoded data removed]",
      "text/plain": [
       "<Figure size 432x288 with 1 Axes>"
      ]
     },
     "metadata": {},
     "output_type": "display_data"
    }
   ],
   "source": [
    "# compute the False Positive Rate (FPR) and the True Positive Rate (TPR) for various thresholds\n",
    "fpr, tpr, thresholds = roc_curve(y_test, y_prob)\n",
    "\n",
    "# plot the ROC curve\n",
    "plot_roc_curve(fpr, tpr)"
   ]
  },
  {
   "cell_type": "markdown",
   "metadata": {},
   "source": [
    "Train a Random Forest Classifier using a cross-validated grid search."
   ]
  },
  {
   "cell_type": "code",
   "execution_count": 24,
   "metadata": {},
   "outputs": [
    {
     "data": {
      "text/plain": [
       "{'max_depth': [5, 10, 15, None],\n",
       " 'min_samples_leaf': [1, 2, 3, 4],\n",
       " 'n_estimators': [200, 400, 600, 800, 1000]}"
      ]
     },
     "execution_count": 24,
     "metadata": {},
     "output_type": "execute_result"
    }
   ],
   "source": [
    "# set up a parameter grid for grid search\n",
    "search_grid = {\"max_depth\": [5, 10, 15, None],\n",
    "               \"min_samples_leaf\": [1, 2, 3, 4],\n",
    "               \"n_estimators\": [200, 400, 600, 800, 1000]}\n",
    "search_grid"
   ]
  },
  {
   "cell_type": "code",
   "execution_count": 25,
   "metadata": {},
   "outputs": [
    {
     "data": {
      "text/plain": [
       "{'max_depth': None, 'min_samples_leaf': 3, 'n_estimators': 600}"
      ]
     },
     "execution_count": 25,
     "metadata": {},
     "output_type": "execute_result"
    }
   ],
   "source": [
    "# instantiate a Random Forest Classifier\n",
    "rfc = RandomForestClassifier()\n",
    "\n",
    "# instantiate a GridSearchCV\n",
    "grid_search = GridSearchCV(rfc, search_grid,\n",
    "                           cv=5, n_jobs=6,\n",
    "                           scoring=\"roc_auc\")\n",
    "\n",
    "# conduct a grid search\n",
    "grid_search.fit(X_train_std, y_train)\n",
    "\n",
    "# view the results of the grid search\n",
    "grid_search.best_params_"
   ]
  },
  {
   "cell_type": "code",
   "execution_count": 26,
   "metadata": {},
   "outputs": [
    {
     "name": "stdout",
     "output_type": "stream",
     "text": [
      "Accuracy: 0.9918\n",
      "AUC score: 0.9968\n"
     ]
    }
   ],
   "source": [
    "# get the predicted labels\n",
    "y_pred = grid_search.best_estimator_.predict(X_test_std)\n",
    "\n",
    "# get the predicted probabilities\n",
    "y_prob = grid_search.best_estimator_.predict_proba(X_test_std)\n",
    "\n",
    "# isolate the positive probabilities\n",
    "y_prob = y_prob[:, 1]\n",
    "\n",
    "# calculate the accuracy score\n",
    "print(\"Accuracy: {}\".format(accuracy_score(y_test, y_pred).round(4)))\n",
    "\n",
    "# calculate the AUC score\n",
    "print(\"AUC score: {}\".format(roc_auc_score(y_test, y_prob).round(4)))"
   ]
  },
  {
   "cell_type": "code",
   "execution_count": 27,
   "metadata": {},
   "outputs": [
    {
     "data": {
      "image/png": "[encoded data removed]",
      "text/plain": [
       "<Figure size 432x288 with 2 Axes>"
      ]
     },
     "metadata": {},
     "output_type": "display_data"
    }
   ],
   "source": [
    "# look at the confusion matrix\n",
    "plot_confusion_matrix(grid_search.best_estimator_, X_test_std, y_test);"
   ]
  },
  {
   "cell_type": "code",
   "execution_count": 28,
   "metadata": {},
   "outputs": [
    {
     "data": {
      "image/png": "[encoded data removed]",
      "text/plain": [
       "<Figure size 432x288 with 1 Axes>"
      ]
     },
     "metadata": {},
     "output_type": "display_data"
    }
   ],
   "source": [
    "# compute the False Positive Rate (FPR) and the True Positive Rate (TPR) for various thresholds\n",
    "fpr, tpr, thresholds = roc_curve(y_test, y_prob)\n",
    "\n",
    "# plot the ROC curve\n",
    "plot_roc_curve(fpr, tpr)"
   ]
  },
  {
   "cell_type": "markdown",
   "metadata": {},
   "source": [
    "Each classifier tested thus far produces an accuracy and AUC score that is above the 96% threshold we need! However, we may be able to improve the performance of each model by training it on a balanced dataset. Rather than continuing to instantiate, train, and test different models, let's augment the training set using oversampling."
   ]
  },
  {
   "cell_type": "markdown",
   "metadata": {},
   "source": [
    "Data Augmentation"
   ]
  },
  {
   "cell_type": "markdown",
   "metadata": {},
   "source": [
    "Oversampling is used to augment imbalanced training sets by generating fictional training data using the distribution of each feature in the minority sample. We implement oversampling using these 5 steps.  \n",
    "1. Isolate the minority observations\n",
    "2. Get the mean of each feature\n",
    "3. Get the standard deviation of each feature\n",
    "4. Generate fictional data with a random distribution using the mean and standard deviation found for each feature\n",
    "5. Add the fictional data to the dataset  \n",
    "\n",
    "By adding an equal number of fictional observations to the original dataset, we can create a balanced dataset that may improve training and testing of the model."
   ]
  },
  {
   "cell_type": "code",
   "execution_count": 29,
   "metadata": {},
   "outputs": [],
   "source": [
    "# isolate the observations where ALL_TEAM == 1 and drop the ALL_TEAM column\n",
    "all_team_data = data[data.ALL_TEAM == 1].iloc[:, :-1]"
   ]
  },
  {
   "cell_type": "code",
   "execution_count": 30,
   "metadata": {},
   "outputs": [],
   "source": [
    "# get the mean and standard deviation for each feature of the all_team_data\n",
    "mean = all_team_data.mean()\n",
    "std = all_team_data.std()"
   ]
  },
  {
   "cell_type": "code",
   "execution_count": 31,
   "metadata": {},
   "outputs": [],
   "source": [
    "# set the seed of the random number generator for reproducibility\n",
    "rng = np.random.default_rng(38)\n",
    "\n",
    "# generate a normally distributed set of data using the mean and std calculated above\n",
    "generated_data = rng.normal(mean, std, size=(4547, 23))"
   ]
  },
  {
   "cell_type": "code",
   "execution_count": 32,
   "metadata": {},
   "outputs": [],
   "source": [
    "# put the generated data in a dataframe\n",
    "gd_df = pd.DataFrame(generated_data, columns=all_team_data.columns)\n",
    "\n",
    "# add an ALL_TEAM column to the generated data\n",
    "gd_df[\"ALL_TEAM\"] = 1\n",
    "\n",
    "# set dtypes for the generated data to match the original data dtypes\n",
    "gd_df.AGE = gd_df.AGE.astype(np.int64)\n",
    "gd_df.GP = gd_df.GP.astype(np.int64)\n",
    "gd_df.W = gd_df.W.astype(np.int64)\n",
    "gd_df.L = gd_df.L.astype(np.int64)\n",
    "gd_df.DD2 = gd_df.DD2.astype(np.int64)\n",
    "gd_df.TD3 = gd_df.TD3.astype(np.int64)"
   ]
  },
  {
   "cell_type": "code",
   "execution_count": 33,
   "metadata": {},
   "outputs": [
    {
     "name": "stdout",
     "output_type": "stream",
     "text": [
      "<class 'pandas.core.frame.DataFrame'>\n",
      "RangeIndex: 9394 entries, 0 to 9393\n",
      "Data columns (total 24 columns):\n",
      " #   Column    Non-Null Count  Dtype  \n",
      "---  ------    --------------  -----  \n",
      " 0   AGE       9394 non-null   int64  \n",
      " 1   GP        9394 non-null   int64  \n",
      " 2   W         9394 non-null   int64  \n",
      " 3   L         9394 non-null   int64  \n",
      " 4   MIN       9394 non-null   float64\n",
      " 5   PTS       9394 non-null   float64\n",
      " 6   FGM       9394 non-null   float64\n",
      " 7   FGA       9394 non-null   float64\n",
      " 8   3PM       9394 non-null   float64\n",
      " 9   3PA       9394 non-null   float64\n",
      " 10  FTM       9394 non-null   float64\n",
      " 11  FTA       9394 non-null   float64\n",
      " 12  OREB      9394 non-null   float64\n",
      " 13  DREB      9394 non-null   float64\n",
      " 14  REB       9394 non-null   float64\n",
      " 15  AST       9394 non-null   float64\n",
      " 16  TOV       9394 non-null   float64\n",
      " 17  STL       9394 non-null   float64\n",
      " 18  BLK       9394 non-null   float64\n",
      " 19  PF        9394 non-null   float64\n",
      " 20  FP        9394 non-null   float64\n",
      " 21  DD2       9394 non-null   int64  \n",
      " 22  TD3       9394 non-null   int64  \n",
      " 23  ALL_TEAM  9394 non-null   int64  \n",
      "dtypes: float64(17), int64(7)\n",
      "memory usage: 1.7 MB\n"
     ]
    }
   ],
   "source": [
    "# concatenate the original data with the generated data\n",
    "augmented_data = pd.concat([data, gd_df])\n",
    "\n",
    "# shuffle the augmented data into the original data\n",
    "augmented_data = augmented_data.sample(n=augmented_data.shape[0]).reset_index(drop=True)\n",
    "\n",
    "# take a look at the augmented dataframe\n",
    "augmented_data.info()"
   ]
  },
  {
   "cell_type": "markdown",
   "metadata": {},
   "source": [
    "We now have 9,394 observations in the dataset where half of the observations are labelled ALL_TEAM = 1, a perfectly balanced dataset with twice the number of observations than the original dataset."
   ]
  },
  {
   "cell_type": "markdown",
   "metadata": {},
   "source": [
    "Create a Training Set with the Augmented Data"
   ]
  },
  {
   "cell_type": "markdown",
   "metadata": {},
   "source": [
    "Although we want to use the augmented dataset for training, we still want to test the model with the original test set. Hence, underscores are used to catch the unneeded results returned by train_test_split() below."
   ]
  },
  {
   "cell_type": "code",
   "execution_count": 34,
   "metadata": {},
   "outputs": [],
   "source": [
    "# create an augmented training set\n",
    "X_train_aug, _, y_train_aug, _ = train_test_split(augmented_data.iloc[:, :-1], augmented_data.iloc[:, -1], train_size=0.8, random_state=38)"
   ]
  },
  {
   "cell_type": "markdown",
   "metadata": {},
   "source": [
    "*Note: standardize the original test set using the mean and standard deviation of the augmented training set.*"
   ]
  },
  {
   "cell_type": "code",
   "execution_count": 35,
   "metadata": {},
   "outputs": [],
   "source": [
    "# standardize the augmented training data\n",
    "aug_scaler = StandardScaler()\n",
    "X_train_aug_std = aug_scaler.fit_transform(X_train_aug)\n",
    "\n",
    "# standardize the original test data using the mean and std from the augmented scaler\n",
    "X_test_aug_std = aug_scaler.transform(X_test)"
   ]
  },
  {
   "cell_type": "code",
   "execution_count": 36,
   "metadata": {
    "scrolled": true
   },
   "outputs": [
    {
     "data": {
      "text/plain": [
       "((7515, 23), (970, 23), (7515,), (970,))"
      ]
     },
     "execution_count": 36,
     "metadata": {},
     "output_type": "execute_result"
    }
   ],
   "source": [
    "X_train_aug_std.shape, X_test_aug_std.shape, y_train_aug.shape, y_test.shape"
   ]
  },
  {
   "cell_type": "markdown",
   "metadata": {},
   "source": [
    "Train a Voting Classifier"
   ]
  },
  {
   "cell_type": "markdown",
   "metadata": {},
   "source": [
    "Instead of repeating the instantiation, cross-validated grid search training, and testing of each individual model like  was done above, let's create an ensemble model with default versions of the same three classifiers to see if we can produce better results without having to spend time optimizing each model."
   ]
  },
  {
   "cell_type": "code",
   "execution_count": 37,
   "metadata": {},
   "outputs": [],
   "source": [
    "# instantiate the individual classifiers with their default hyperparameters\n",
    "log_clf = LogisticRegression()\n",
    "rnd_clf = RandomForestClassifier()\n",
    "svm_clf = SVC(probability=True)"
   ]
  },
  {
   "cell_type": "code",
   "execution_count": 38,
   "metadata": {},
   "outputs": [],
   "source": [
    "# instantiate a Voting Classifier\n",
    "voting_clf = VotingClassifier(estimators=[(\"lr\", log_clf), (\"rf\", rnd_clf), (\"svc\", svm_clf)],\n",
    "                              voting=\"soft\",\n",
    "                              n_jobs=6)"
   ]
  },
  {
   "cell_type": "code",
   "execution_count": 39,
   "metadata": {},
   "outputs": [
    {
     "name": "stdout",
     "output_type": "stream",
     "text": [
      "Accuracy: LogisticRegression 0.9876\n",
      "AUC score: LogisticRegression 0.9985\n",
      "\n",
      "Accuracy: RandomForestClassifier 0.9979\n",
      "AUC score: RandomForestClassifier 0.9996\n",
      "\n",
      "Accuracy: SVC 0.9928\n",
      "AUC score: SVC 0.9976\n",
      "\n",
      "Accuracy: VotingClassifier 0.9928\n",
      "AUC score: VotingClassifier 0.9993\n",
      "\n"
     ]
    }
   ],
   "source": [
    "# calculate the accuracy and AUC score for each model\n",
    "for clf in (log_clf, rnd_clf, svm_clf, voting_clf):\n",
    "    clf.fit(X_train_aug_std, y_train_aug)\n",
    "    y_pred = clf.predict(X_test_aug_std)\n",
    "    y_prob = clf.predict_proba(X_test_aug_std)[:, 1]\n",
    "    print(\"Accuracy: {} {}\".format(clf.__class__.__name__, accuracy_score(y_test, y_pred).round(4)))\n",
    "    print(\"AUC score: {} {}\".format(clf.__class__.__name__, roc_auc_score(y_test, y_prob).round(4)))\n",
    "    print()"
   ]
  },
  {
   "cell_type": "markdown",
   "metadata": {},
   "source": [
    "The Random Forest Classifier with default hyperparameters had both the highest accuracy score and the highest AUC score. Therefore, the Random Forest Classifier is selected as the final model. Looking at the confusion matrix, we see that the final model only produced two false positives!"
   ]
  },
  {
   "cell_type": "code",
   "execution_count": 40,
   "metadata": {},
   "outputs": [
    {
     "data": {
      "image/png": "[encoded data removed]",
      "text/plain": [
       "<Figure size 432x288 with 2 Axes>"
      ]
     },
     "metadata": {},
     "output_type": "display_data"
    }
   ],
   "source": [
    "# look at the confusion matrix\n",
    "plot_confusion_matrix(rnd_clf, X_test_aug_std, y_test);"
   ]
  },
  {
   "cell_type": "code",
   "execution_count": 41,
   "metadata": {},
   "outputs": [
    {
     "data": {
      "image/png": "[encoded data removed]",
      "text/plain": [
       "<Figure size 432x288 with 1 Axes>"
      ]
     },
     "metadata": {},
     "output_type": "display_data"
    }
   ],
   "source": [
    "# compute the False Positive Rate (FPR) and the True Positive Rate (TPR) for various thresholds\n",
    "fpr, tpr, thresholds = roc_curve(y_test, y_prob)\n",
    "\n",
    "# plot the ROC curve\n",
    "plot_roc_curve(fpr, tpr)"
   ]
  },
  {
   "cell_type": "markdown",
   "metadata": {},
   "source": [
    "#### Conclusion"
   ]
  },
  {
   "cell_type": "markdown",
   "metadata": {},
   "source": [
    "Based on the results of this study, it seems feasible that a classification model can be used to predict the probability an NBA player is selected for the All-NBA Team. The final Random Forest Classifier acheived an accuracy score of 99.79%, which is greater than the 96% threshold established by the naïve model. The AUC score of 0.9996 and the resulting confusion matrix add confidence that the model is able to successfully distinguish between both classes of labels. Even though the initial models produced both accuracy and AUC scores that were above 99%, building and training the models with default hyperparameters using an augmented dataset improved their respective accuracy and AUC scores in each case. Future researchers may want to expand on this study by trying to predict which All-NBA Team - first, second, or third string - a player is selected."
   ]
  },
  {
   "cell_type": "markdown",
   "metadata": {},
   "source": [
    "---"
   ]
  },
  {
   "cell_type": "markdown",
   "metadata": {},
   "source": [
    "##### Glossary"
   ]
  },
  {
   "cell_type": "markdown",
   "metadata": {},
   "source": [
    "AGE - Age  \n",
    "GP - Games Played  \n",
    "W - Wins  \n",
    "L - Losses  \n",
    "MIN - Minutes Played  \n",
    "PTS - Points \n",
    "FGM - Field Goals Made  \n",
    "FGA - Field Goals Attempted  \n",
    "FG% - Field Goal Percentage  \n",
    "3PM - 3 Point Field Goals Made  \n",
    "3PA - 3 Point Field Goals Attempted  \n",
    "3P% - 3 Point Field Goals Percentage  \n",
    "FTM - Free Throws Made  \n",
    "FTA - Free Throws Attempted  \n",
    "FT% - Free Throw Percentage  \n",
    "OREB - Offensive Rebounds  \n",
    "DREB - Defensive Rebounds  \n",
    "REB - Rebounds  \n",
    "AST - Assists  \n",
    "TOV - Turnovers  \n",
    "STL - Steals  \n",
    "BLK - Blocks  \n",
    "PF - Personal Fouls  \n",
    "FP - Fantasy Points  \n",
    "DD2 - Double doubles  \n",
    "TD3 - Triple doubles   \n",
    "ALL_TEAM - Selected to All-NBA Team"
   ]
  }
 ],
 "metadata": {
  "kernelspec": {
   "display_name": "Python 3",
   "language": "python",
   "name": "python3"
  },
  "language_info": {
   "codemirror_mode": {
    "name": "ipython",
    "version": 3
   },
   "file_extension": ".py",
   "mimetype": "text/x-python",
   "name": "python",
   "nbconvert_exporter": "python",
   "pygments_lexer": "ipython3",
   "version": "3.7.7"
  }
 },
 "nbformat": 4,
 "nbformat_minor": 4
}
